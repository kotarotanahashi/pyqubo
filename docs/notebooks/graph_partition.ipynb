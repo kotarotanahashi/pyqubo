{
 "cells": [
  {
   "cell_type": "code",
   "execution_count": 1,
   "metadata": {},
   "outputs": [],
   "source": [
    "%matplotlib inline\n",
    "from pyqubo import Spin, Vector, Placeholder, solve_ising, Constraint\n",
    "import matplotlib.pyplot as plt\n",
    "import networkx as nx"
   ]
  },
  {
   "cell_type": "markdown",
   "metadata": {},
   "source": [
    "## Graph Partitioning Problem\n",
    "\n",
    "Partition a graph into two equal size parts such that the number of divided edges are minimized. Ising formulation of this problem is represented as\n",
    "\n",
    "$$\n",
    "H(s) = \\alpha H_{A}(s) + H_{B}(s)\\\\\n",
    "H_{A}(s) = \\left( \\sum_{i \\in V} s_{i}\\right )^2\\\\\n",
    "H_{B}(s) = \\sum_{(i, j) \\in E} \\frac{1-s_{i}s_{j}}{2}\n",
    "$$\n",
    "\n",
    "$H_{A}(s)$ is a constraint that two graph has equal number of nodes. $H_{B}(s)$ is the number of divided edges. $\\alpha$ is a penalty strength."
   ]
  },
  {
   "cell_type": "code",
   "execution_count": 2,
   "metadata": {},
   "outputs": [],
   "source": [
    "def plot_graph(E, colors=None):\n",
    "    G = nx.Graph()\n",
    "    for (i, j) in E:\n",
    "        G.add_edge(i, j)\n",
    "    plt.figure(figsize=(4,4))\n",
    "    pos = nx.spring_layout(G)\n",
    "    if colors:\n",
    "        nx.draw_networkx(G, pos, node_color=[colors[node] for node in G.nodes])\n",
    "    else:\n",
    "        nx.draw_networkx(G, pos)\n",
    "    plt.axis(\"off\")\n",
    "    plt.show()"
   ]
  },
  {
   "cell_type": "code",
   "execution_count": 3,
   "metadata": {},
   "outputs": [
    {
     "data": {
      "image/png": "[encoded data removed]",
      "text/plain": [
       "<Figure size 288x288 with 1 Axes>"
      ]
     },
     "metadata": {
      "needs_background": "light"
     },
     "output_type": "display_data"
    }
   ],
   "source": [
    "# Following edges are given\n",
    "E = {(0, 6), (2, 4), (7, 5), (0, 4), (2, 0),\n",
    "     (5, 3), (2, 3), (2, 6), (4, 6), (1, 3),\n",
    "     (1, 5), (7, 1), (7, 3), (2, 5)}\n",
    "plot_graph(E)"
   ]
  },
  {
   "cell_type": "markdown",
   "metadata": {},
   "source": [
    "Prepare a vector with 8 dimension. Each spin represents which group it belongs to."
   ]
  },
  {
   "cell_type": "code",
   "execution_count": 6,
   "metadata": {},
   "outputs": [],
   "source": [
    "# Define spin vector\n",
    "s = Vector(\"s\", 8, spin=True)\n",
    "\n",
    "# Define placeholder alpha\n",
    "a = Placeholder(\"alpha\")"
   ]
  },
  {
   "cell_type": "code",
   "execution_count": 7,
   "metadata": {},
   "outputs": [],
   "source": [
    "# Define hamiltonian H_{A}\n",
    "HA =Constraint(sum(s) ** 2, \"num_nodes\")\n",
    "\n",
    "# Define hamiltonian H_{B}\n",
    "HB = sum((1.0 - s[i]*s[j]) / 2.0 for (i, j) in E)\n",
    "\n",
    "H = a * HA + HB"
   ]
  },
  {
   "cell_type": "code",
   "execution_count": 8,
   "metadata": {},
   "outputs": [],
   "source": [
    "# Compile model\n",
    "model = H.compile()\n",
    "\n",
    "# Create Ising model with alpha = 0.1\n",
    "feed_dict={'alpha': 0.1}\n",
    "linear, quad, offset = model.to_ising(feed_dict=feed_dict)"
   ]
  },
  {
   "cell_type": "code",
   "execution_count": 9,
   "metadata": {},
   "outputs": [
    {
     "name": "stdout",
     "output_type": "stream",
     "text": [
      "#broken constraints: 0\n"
     ]
    }
   ],
   "source": [
    "# Solve Ising model\n",
    "solution = solve_ising(linear, quad)\n",
    "\n",
    "# Decode solution\n",
    "decoded_sol, broken, energy = model.decode_solution(solution, vartype=\"SPIN\", feed_dict=feed_dict)\n",
    "print(\"#broken constraints: {}\".format(len(broken)))"
   ]
  },
  {
   "cell_type": "code",
   "execution_count": 10,
   "metadata": {},
   "outputs": [
    {
     "data": {
      "image/png": "[encoded data removed]",
      "text/plain": [
       "<Figure size 288x288 with 1 Axes>"
      ]
     },
     "metadata": {
      "needs_background": "light"
     },
     "output_type": "display_data"
    }
   ],
   "source": [
    "# Plot graph\n",
    "plot_graph(E, [solution[k]+1 for k in sorted(solution.keys())])"
   ]
  }
 ],
 "metadata": {
  "kernelspec": {
   "display_name": "Python 3",
   "language": "python",
   "name": "python3"
  },
  "language_info": {
   "codemirror_mode": {
    "name": "ipython",
    "version": 3
   },
   "file_extension": ".py",
   "mimetype": "text/x-python",
   "name": "python",
   "nbconvert_exporter": "python",
   "pygments_lexer": "ipython3",
   "version": "3.6.1"
  }
 },
 "nbformat": 4,
 "nbformat_minor": 2
}

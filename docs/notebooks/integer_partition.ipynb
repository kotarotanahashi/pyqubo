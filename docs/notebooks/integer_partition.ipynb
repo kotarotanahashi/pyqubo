{
 "cells": [
  {
   "cell_type": "code",
   "execution_count": 2,
   "metadata": {},
   "outputs": [],
   "source": [
    "from pyqubo import Spin, solve_ising"
   ]
  },
  {
   "cell_type": "markdown",
   "metadata": {},
   "source": [
    "A set of integer is given. We want to divide it into two sets A and B, such that the sum of each set is 0.\n",
    "\n",
    "$S = \\{2, 4, 6\\}$\n",
    "\n",
    "Prepare spins $s1,s2,s3 \\in \\{-1, 1\\}$, with each spin representing which set it belongs to."
   ]
  },
  {
   "cell_type": "code",
   "execution_count": 3,
   "metadata": {},
   "outputs": [],
   "source": [
    "# Define hamiltonian\n",
    "s1, s2, s3 = Spin(\"s1\"), Spin(\"s2\"), Spin(\"s3\")\n",
    "H = (2*s1 + 4*s2 + 6*s3)**2"
   ]
  },
  {
   "cell_type": "code",
   "execution_count": 4,
   "metadata": {},
   "outputs": [],
   "source": [
    "# Create Ising model\n",
    "model = H.compile()\n",
    "linear, quad, offset = model.to_ising()"
   ]
  },
  {
   "cell_type": "code",
   "execution_count": 5,
   "metadata": {},
   "outputs": [
    {
     "data": {
      "text/plain": [
       "{'s1': 1, 's2': 1, 's3': -1}"
      ]
     },
     "execution_count": 5,
     "metadata": {},
     "output_type": "execute_result"
    }
   ],
   "source": [
    "# Solve Ising model\n",
    "solution = solve_ising(linear, quad)\n",
    "solution"
   ]
  }
 ],
 "metadata": {
  "kernelspec": {
   "display_name": "Python 3",
   "language": "python",
   "name": "python3"
  },
  "language_info": {
   "codemirror_mode": {
    "name": "ipython",
    "version": 3.0
   },
   "file_extension": ".py",
   "mimetype": "text/x-python",
   "name": "python",
   "nbconvert_exporter": "python",
   "pygments_lexer": "ipython3",
   "version": "3.6.1"
  }
 },
 "nbformat": 4,
 "nbformat_minor": 0
}
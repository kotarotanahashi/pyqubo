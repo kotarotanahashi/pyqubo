{
 "cells": [
  {
   "cell_type": "code",
   "execution_count": 1,
   "metadata": {},
   "outputs": [],
   "source": [
    "from pyqubo import Spin, solve_ising"
   ]
  },
  {
   "cell_type": "markdown",
   "metadata": {},
   "source": [
    "整数集合が以下のように与えられる。値の和の差が0になるような二つの集合$A, B$に分割したい\n",
    "\n",
    "$S = \\{2, 4, 6\\}$\n",
    "\n",
    "スピン$s1,s2,s3 \\in \\{-1, 1\\}$を用意し、それぞれ、整数$2,4,6$がどちらの集合に属するかを表す。例えば、$s=1$のとき、その数は集合$A$に属し、$s=-1$のとき集合$B$に属する、と設定できる。"
   ]
  },
  {
   "cell_type": "code",
   "execution_count": 2,
   "metadata": {},
   "outputs": [],
   "source": [
    "# ハミルトニアンを記述\n",
    "s1, s2, s3 = Spin(\"s1\"), Spin(\"s2\"), Spin(\"s3\")\n",
    "H = (2*s1 + 4*s2 + 6*s3)**2"
   ]
  },
  {
   "cell_type": "code",
   "execution_count": 3,
   "metadata": {},
   "outputs": [],
   "source": [
    "# Isingモデルを得る\n",
    "model = H.compile()\n",
    "linear, quad, offset = model.to_ising()"
   ]
  },
  {
   "cell_type": "code",
   "execution_count": 4,
   "metadata": {},
   "outputs": [
    {
     "data": {
      "text/plain": [
       "{'s1': -1, 's2': -1, 's3': 1}"
      ]
     },
     "execution_count": 4,
     "metadata": {},
     "output_type": "execute_result"
    }
   ],
   "source": [
    "# Isingモデルを解く\n",
    "solution = solve_ising(linear, quad)\n",
    "solution"
   ]
  }
 ],
 "metadata": {
  "kernelspec": {
   "display_name": "Python 3",
   "language": "python",
   "name": "python3"
  },
  "language_info": {
   "codemirror_mode": {
    "name": "ipython",
    "version": 3
   },
   "file_extension": ".py",
   "mimetype": "text/x-python",
   "name": "python",
   "nbconvert_exporter": "python",
   "pygments_lexer": "ipython3",
   "version": "3.6.1"
  }
 },
 "nbformat": 4,
 "nbformat_minor": 2
}
